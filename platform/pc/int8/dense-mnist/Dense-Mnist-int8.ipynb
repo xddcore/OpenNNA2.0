{
 "cells": [
  {
   "cell_type": "markdown",
   "metadata": {
    "id": "rX8mhOLljYeM"
   },
   "source": [
    "##### Copyright 2019 The TensorFlow Authors."
   ]
  },
  {
   "cell_type": "code",
   "execution_count": 2,
   "metadata": {
    "ExecuteTime": {
     "end_time": "2022-08-17T13:59:41.243337Z",
     "start_time": "2022-08-17T13:59:41.239351Z"
    },
    "cellView": "form",
    "execution": {
     "iopub.execute_input": "2022-06-03T19:35:34.647685Z",
     "iopub.status.busy": "2022-06-03T19:35:34.647384Z",
     "iopub.status.idle": "2022-06-03T19:35:34.651913Z",
     "shell.execute_reply": "2022-06-03T19:35:34.651145Z"
    },
    "id": "BZSlp3DAjdYf"
   },
   "outputs": [],
   "source": [
    "#@title Licensed under the Apache License, Version 2.0 (the \"License\");\n",
    "# you may not use this file except in compliance with the License.\n",
    "# You may obtain a copy of the License at\n",
    "#\n",
    "# https://www.apache.org/licenses/LICENSE-2.0\n",
    "#\n",
    "# Unless required by applicable law or agreed to in writing, software\n",
    "# distributed under the License is distributed on an \"AS IS\" BASIS,\n",
    "# WITHOUT WARRANTIES OR CONDITIONS OF ANY KIND, either express or implied.\n",
    "# See the License for the specific language governing permissions and\n",
    "# limitations under the License."
   ]
  },
  {
   "cell_type": "markdown",
   "metadata": {
    "id": "3wF5wszaj97Y"
   },
   "source": [
    "# 初学者的 TensorFlow 2.0 教程"
   ]
  },
  {
   "cell_type": "markdown",
   "metadata": {
    "id": "DUNzJc4jTj6G"
   },
   "source": [
    "<table class=\"tfo-notebook-buttons\" align=\"left\">\n",
    "  <td>\n",
    "    <a target=\"_blank\" href=\"https://tensorflow.google.cn/tutorials/quickstart/beginner\"><img src=\"https://tensorflow.google.cn/images/tf_logo_32px.png\" />在 TensorFlow.org 观看</a>\n",
    "  </td>\n",
    "  <td>\n",
    "    <a target=\"_blank\" href=\"https://colab.research.google.com/github/tensorflow/docs-l10n/blob/master/site/zh-cn/tutorials/quickstart/beginner.ipynb\"><img src=\"https://tensorflow.google.cn/images/colab_logo_32px.png\" />在 Google Colab 运行</a>\n",
    "  </td>\n",
    "  <td>\n",
    "    <a target=\"_blank\" href=\"https://github.com/tensorflow/docs-l10n/blob/master/site/zh-cn/tutorials/quickstart/beginner.ipynb\"><img src=\"https://tensorflow.google.cn/images/GitHub-Mark-32px.png\" />在 GitHub 查看源代码</a>\n",
    "  </td>\n",
    "  <td>\n",
    "    <a href=\"https://storage.googleapis.com/tensorflow_docs/docs-l10n/site/zh-cn/tutorials/quickstart/beginner.ipynb\"><img src=\"https://tensorflow.google.cn/images/download_logo_32px.png\" />下载笔记本</a>\n",
    "  </td>\n",
    "</table>"
   ]
  },
  {
   "cell_type": "markdown",
   "metadata": {
    "id": "GEe3i16tQPjo"
   },
   "source": [
    "Note: 我们的 TensorFlow 社区翻译了这些文档。因为社区翻译是尽力而为， 所以无法保证它们是最准确的，并且反映了最新的\n",
    "[官方英文文档](https://tensorflow.google.cn/?hl=en)。如果您有改进此翻译的建议， 请提交 pull request 到\n",
    "[tensorflow/docs](https://github.com/tensorflow/docs) GitHub 仓库。要志愿地撰写或者审核译文，请加入\n",
    "[docs-zh-cn@tensorflow.org Google Group](https://groups.google.com/a/tensorflow.org/forum/#!forum/docs-zh-cn)。"
   ]
  },
  {
   "cell_type": "markdown",
   "metadata": {
    "id": "hiH7AC-NTniF"
   },
   "source": [
    "这是一个 [Google Colaboratory](https://colab.research.google.com/notebooks/welcome.ipynb) 笔记本文件。 Python程序可以直接在浏览器中运行，这是学习 Tensorflow 的绝佳方式。想要学习该教程，请点击此页面顶部的按钮，在Google Colab中运行笔记本。\n",
    "\n",
    "1. 在 Colab中, 连接到Python运行环境： 在菜单条的右上方, 选择 *CONNECT*。\n",
    "2. 运行所有的代码块: 选择 *Runtime* > *Run all*。"
   ]
  },
  {
   "cell_type": "markdown",
   "metadata": {
    "id": "nnrWf3PCEzXL"
   },
   "source": [
    "下载并安装 TensorFlow 2.0 测试版包。将 TensorFlow 载入你的程序："
   ]
  },
  {
   "cell_type": "code",
   "execution_count": 1,
   "metadata": {
    "ExecuteTime": {
     "end_time": "2022-08-21T18:09:27.764527Z",
     "start_time": "2022-08-21T18:09:22.051438Z"
    },
    "execution": {
     "iopub.execute_input": "2022-06-03T19:35:34.656029Z",
     "iopub.status.busy": "2022-06-03T19:35:34.655789Z",
     "iopub.status.idle": "2022-06-03T19:35:36.816239Z",
     "shell.execute_reply": "2022-06-03T19:35:36.815233Z"
    },
    "id": "0trJmd6DjqBZ"
   },
   "outputs": [],
   "source": [
    "# 安装 TensorFlow\n",
    "\n",
    "import tensorflow as tf"
   ]
  },
  {
   "cell_type": "markdown",
   "metadata": {
    "id": "7NAbSZiaoJ4z"
   },
   "source": [
    "载入并准备好 [MNIST 数据集](http://yann.lecun.com/exdb/mnist/)。将样本从整数转换为浮点数："
   ]
  },
  {
   "cell_type": "code",
   "execution_count": 2,
   "metadata": {
    "ExecuteTime": {
     "end_time": "2022-08-21T18:09:28.035361Z",
     "start_time": "2022-08-21T18:09:27.765560Z"
    },
    "execution": {
     "iopub.execute_input": "2022-06-03T19:35:36.821081Z",
     "iopub.status.busy": "2022-06-03T19:35:36.820515Z",
     "iopub.status.idle": "2022-06-03T19:35:37.426114Z",
     "shell.execute_reply": "2022-06-03T19:35:37.425077Z"
    },
    "id": "7FP5258xjs-v"
   },
   "outputs": [],
   "source": [
    "mnist = tf.keras.datasets.mnist\n",
    "\n",
    "(x_train, y_train), (x_test, y_test) = mnist.load_data()\n",
    "x_train, x_test = x_train / 255.0, x_test / 255.0"
   ]
  },
  {
   "cell_type": "markdown",
   "metadata": {
    "id": "BPZ68wASog_I"
   },
   "source": [
    "将模型的各层堆叠起来，以搭建 `tf.keras.Sequential` 模型。为训练选择优化器和损失函数："
   ]
  },
  {
   "cell_type": "code",
   "execution_count": 3,
   "metadata": {
    "ExecuteTime": {
     "end_time": "2022-08-21T18:09:31.237492Z",
     "start_time": "2022-08-21T18:09:28.036550Z"
    },
    "execution": {
     "iopub.execute_input": "2022-06-03T19:35:37.430669Z",
     "iopub.status.busy": "2022-06-03T19:35:37.430325Z",
     "iopub.status.idle": "2022-06-03T19:35:40.534924Z",
     "shell.execute_reply": "2022-06-03T19:35:40.534010Z"
    },
    "id": "h3IKyzTCDNGo"
   },
   "outputs": [],
   "source": [
    "model = tf.keras.models.Sequential([\n",
    "  tf.keras.layers.Flatten(input_shape=(28, 28)),\n",
    "  tf.keras.layers.Dense(128, activation='relu'),\n",
    "  tf.keras.layers.Dropout(0.2),\n",
    "  tf.keras.layers.Dense(10, activation='softmax')\n",
    "])\n",
    "\n",
    "model.compile(optimizer='adam',\n",
    "              loss='sparse_categorical_crossentropy',\n",
    "              metrics=['accuracy'])"
   ]
  },
  {
   "cell_type": "markdown",
   "metadata": {
    "id": "ix4mEL65on-w"
   },
   "source": [
    "训练并验证模型："
   ]
  },
  {
   "cell_type": "code",
   "execution_count": 4,
   "metadata": {
    "ExecuteTime": {
     "end_time": "2022-08-21T18:09:50.086137Z",
     "start_time": "2022-08-21T18:09:32.056423Z"
    },
    "execution": {
     "iopub.execute_input": "2022-06-03T19:35:40.538765Z",
     "iopub.status.busy": "2022-06-03T19:35:40.538472Z",
     "iopub.status.idle": "2022-06-03T19:36:02.457706Z",
     "shell.execute_reply": "2022-06-03T19:36:02.456798Z"
    },
    "id": "F7dTAzgHDUh7"
   },
   "outputs": [
    {
     "name": "stdout",
     "output_type": "stream",
     "text": [
      "Epoch 1/5\n",
      "1875/1875 [==============================] - 4s 1ms/step - loss: 0.2872 - accuracy: 0.9158\n",
      "Epoch 2/5\n",
      "1875/1875 [==============================] - 3s 2ms/step - loss: 0.1401 - accuracy: 0.9599\n",
      "Epoch 3/5\n",
      "1875/1875 [==============================] - 3s 2ms/step - loss: 0.1061 - accuracy: 0.9681\n",
      "Epoch 4/5\n",
      "1875/1875 [==============================] - 3s 2ms/step - loss: 0.0854 - accuracy: 0.9736\n",
      "Epoch 5/5\n",
      "1875/1875 [==============================] - 3s 2ms/step - loss: 0.0750 - accuracy: 0.9763\n",
      "313/313 - 0s - loss: 0.0731 - accuracy: 0.9788 - 411ms/epoch - 1ms/step\n"
     ]
    },
    {
     "data": {
      "text/plain": [
       "[0.07310659438371658, 0.9787999987602234]"
      ]
     },
     "execution_count": 4,
     "metadata": {},
     "output_type": "execute_result"
    }
   ],
   "source": [
    "model.fit(x_train, y_train, epochs=5)\n",
    "\n",
    "model.evaluate(x_test,  y_test, verbose=2)"
   ]
  },
  {
   "cell_type": "markdown",
   "metadata": {
    "id": "T4JfEh7kvx6m"
   },
   "source": [
    "现在，这个照片分类器的准确度已经达到 98%。想要了解更多，请阅读 [TensorFlow 教程](https://tensorflow.google.cn/tutorials/)。"
   ]
  },
  {
   "cell_type": "markdown",
   "metadata": {},
   "source": [
    "### 保存模型"
   ]
  },
  {
   "cell_type": "code",
   "execution_count": 13,
   "metadata": {
    "ExecuteTime": {
     "end_time": "2022-08-21T18:29:23.471494Z",
     "start_time": "2022-08-21T18:29:23.440123Z"
    }
   },
   "outputs": [],
   "source": [
    "h5_model_name = 'Dense-Mnist-int8.h5'\n",
    "model.save(h5_model_name)"
   ]
  },
  {
   "cell_type": "markdown",
   "metadata": {},
   "source": [
    "### 将模型量化为TFLite(Int8)"
   ]
  },
  {
   "cell_type": "code",
   "execution_count": 15,
   "metadata": {
    "ExecuteTime": {
     "end_time": "2022-08-21T18:32:55.205493Z",
     "start_time": "2022-08-21T18:32:54.792431Z"
    },
    "scrolled": true
   },
   "outputs": [
    {
     "name": "stdout",
     "output_type": "stream",
     "text": [
      "INFO:tensorflow:Assets written to: C:\\Users\\xddcore\\AppData\\Local\\Temp\\tmpl9ebjoci\\assets\n"
     ]
    },
    {
     "name": "stderr",
     "output_type": "stream",
     "text": [
      "INFO:tensorflow:Assets written to: C:\\Users\\xddcore\\AppData\\Local\\Temp\\tmpl9ebjoci\\assets\n"
     ]
    },
    {
     "name": "stdout",
     "output_type": "stream",
     "text": [
      "INFO:tensorflow:Restoring parameters from C:\\Users\\xddcore\\AppData\\Local\\Temp\\tmpl9ebjoci\\variables\\variables\n"
     ]
    },
    {
     "name": "stderr",
     "output_type": "stream",
     "text": [
      "INFO:tensorflow:Restoring parameters from C:\\Users\\xddcore\\AppData\\Local\\Temp\\tmpl9ebjoci\\variables\\variables\n"
     ]
    },
    {
     "name": "stdout",
     "output_type": "stream",
     "text": [
      "INFO:tensorflow:The given SavedModel MetaGraphDef contains SignatureDefs with the following keys: {'serving_default', '__saved_model_init_op'}\n"
     ]
    },
    {
     "name": "stderr",
     "output_type": "stream",
     "text": [
      "INFO:tensorflow:The given SavedModel MetaGraphDef contains SignatureDefs with the following keys: {'serving_default', '__saved_model_init_op'}\n"
     ]
    },
    {
     "name": "stdout",
     "output_type": "stream",
     "text": [
      "INFO:tensorflow:input tensors info: \n"
     ]
    },
    {
     "name": "stderr",
     "output_type": "stream",
     "text": [
      "INFO:tensorflow:input tensors info: \n"
     ]
    },
    {
     "name": "stdout",
     "output_type": "stream",
     "text": [
      "INFO:tensorflow:Tensor's key in saved_model's tensor_map: flatten_input\n"
     ]
    },
    {
     "name": "stderr",
     "output_type": "stream",
     "text": [
      "INFO:tensorflow:Tensor's key in saved_model's tensor_map: flatten_input\n"
     ]
    },
    {
     "name": "stdout",
     "output_type": "stream",
     "text": [
      "INFO:tensorflow: tensor name: serving_default_flatten_input:0, shape: (-1, 28, 28), type: DT_FLOAT\n"
     ]
    },
    {
     "name": "stderr",
     "output_type": "stream",
     "text": [
      "INFO:tensorflow: tensor name: serving_default_flatten_input:0, shape: (-1, 28, 28), type: DT_FLOAT\n"
     ]
    },
    {
     "name": "stdout",
     "output_type": "stream",
     "text": [
      "INFO:tensorflow:output tensors info: \n"
     ]
    },
    {
     "name": "stderr",
     "output_type": "stream",
     "text": [
      "INFO:tensorflow:output tensors info: \n"
     ]
    },
    {
     "name": "stdout",
     "output_type": "stream",
     "text": [
      "INFO:tensorflow:Tensor's key in saved_model's tensor_map: dense_1\n"
     ]
    },
    {
     "name": "stderr",
     "output_type": "stream",
     "text": [
      "INFO:tensorflow:Tensor's key in saved_model's tensor_map: dense_1\n"
     ]
    },
    {
     "name": "stdout",
     "output_type": "stream",
     "text": [
      "INFO:tensorflow: tensor name: StatefulPartitionedCall:0, shape: (-1, 10), type: DT_FLOAT\n"
     ]
    },
    {
     "name": "stderr",
     "output_type": "stream",
     "text": [
      "INFO:tensorflow: tensor name: StatefulPartitionedCall:0, shape: (-1, 10), type: DT_FLOAT\n"
     ]
    },
    {
     "name": "stdout",
     "output_type": "stream",
     "text": [
      "INFO:tensorflow:Restoring parameters from C:\\Users\\xddcore\\AppData\\Local\\Temp\\tmpl9ebjoci\\variables\\variables\n"
     ]
    },
    {
     "name": "stderr",
     "output_type": "stream",
     "text": [
      "INFO:tensorflow:Restoring parameters from C:\\Users\\xddcore\\AppData\\Local\\Temp\\tmpl9ebjoci\\variables\\variables\n",
      "WARNING:absl:Buffer deduplication procedure will be skipped when flatbuffer library is not properly loaded\n"
     ]
    }
   ],
   "source": [
    "tflite_model_name = 'Dense-Mnist-int8.tflite'\n",
    "def representative_data_gen():#量化校准数据集\n",
    "    train_images = x_test\n",
    "    for image in train_images[0:300,:,:]:\n",
    "        yield[image.reshape(-1,train_images.shape[1],train_images.shape[2]).astype(\"float32\")]\n",
    "        \n",
    "converter = tf.compat.v1.lite.TFLiteConverter.from_keras_model_file(h5_model_name)\n",
    "#输入/输出 Tensor类型\n",
    "converter.inference_input_type = tf.int8\n",
    "converter.inference_output_type = tf.int8\n",
    "converter.optimizations = [tf.lite.Optimize.DEFAULT]\n",
    "converter.representative_dataset = representative_data_gen\n",
    "converter.target_spec.supported_ops = [tf.lite.OpsSet.TFLITE_BUILTINS_INT8]\n",
    "\n",
    "tflite_model = converter.convert()\n",
    "\n",
    "with open(tflite_model_name, \"wb\") as f:\n",
    "    f.write(tflite_model)\n"
   ]
  },
  {
   "cell_type": "markdown",
   "metadata": {},
   "source": [
    "### 评估量化后的tflite"
   ]
  },
  {
   "cell_type": "code",
   "execution_count": 16,
   "metadata": {
    "ExecuteTime": {
     "end_time": "2022-08-21T18:33:50.989449Z",
     "start_time": "2022-08-21T18:33:45.728487Z"
    }
   },
   "outputs": [
    {
     "name": "stdout",
     "output_type": "stream",
     "text": [
      "Test Dataset Accuracy is 97.85%\n"
     ]
    }
   ],
   "source": [
    "def evaluate(interpreter_path):\n",
    "    test_images = (x_test*255)-128\n",
    "    test_labels = y_test\n",
    "    #加载模型并分配张量\n",
    "    interpreter = tf.lite.Interpreter(model_path=interpreter_path)\n",
    "    interpreter.allocate_tensors()\n",
    "\n",
    "    #获得输入输出张量.\n",
    "    input_details = interpreter.get_input_details()\n",
    "    output_details = interpreter.get_output_details()\n",
    "\n",
    "    import numpy as np\n",
    "    index = input_details[0]['index']\n",
    "    shape = input_details[0]['shape']\n",
    "    acc_count = 0\n",
    "    image_count = test_images.shape[0]\n",
    "    for i in range(image_count):\n",
    "        interpreter.set_tensor(index, test_images[i].reshape(shape).astype(\"int8\"))\n",
    "        interpreter.invoke()\n",
    "        output_data = interpreter.get_tensor(output_details[0]['index'])\n",
    "        #print(output_data)\n",
    "        label = np.argmax(output_data)\n",
    "        if label == test_labels[i]:\n",
    "            acc_count += 1\n",
    "    print(\"Test Dataset Accuracy is {:.2%}\".format(acc_count/(image_count)))\n",
    "evaluate(tflite_model_name)"
   ]
  },
  {
   "cell_type": "markdown",
   "metadata": {},
   "source": [
    "#### 导出模型的相关信息"
   ]
  },
  {
   "cell_type": "code",
   "execution_count": 7,
   "metadata": {
    "ExecuteTime": {
     "end_time": "2022-07-13T12:36:22.867438Z",
     "start_time": "2022-07-13T12:36:22.852458Z"
    }
   },
   "outputs": [
    {
     "name": "stdout",
     "output_type": "stream",
     "text": [
      "{'name': 'sequential', 'layers': [{'class_name': 'InputLayer', 'config': {'batch_input_shape': (None, 28, 28), 'dtype': 'float32', 'sparse': False, 'ragged': False, 'name': 'flatten_input'}}, {'class_name': 'Flatten', 'config': {'name': 'flatten', 'trainable': True, 'batch_input_shape': (None, 28, 28), 'dtype': 'float32', 'data_format': 'channels_last'}}, {'class_name': 'Dense', 'config': {'name': 'dense', 'trainable': True, 'dtype': 'float32', 'units': 128, 'activation': 'relu', 'use_bias': True, 'kernel_initializer': {'class_name': 'GlorotUniform', 'config': {'seed': None}}, 'bias_initializer': {'class_name': 'Zeros', 'config': {}}, 'kernel_regularizer': None, 'bias_regularizer': None, 'activity_regularizer': None, 'kernel_constraint': None, 'bias_constraint': None}}, {'class_name': 'Dropout', 'config': {'name': 'dropout', 'trainable': True, 'dtype': 'float32', 'rate': 0.2, 'noise_shape': None, 'seed': None}}, {'class_name': 'Dense', 'config': {'name': 'dense_1', 'trainable': True, 'dtype': 'float32', 'units': 10, 'activation': 'softmax', 'use_bias': True, 'kernel_initializer': {'class_name': 'GlorotUniform', 'config': {'seed': None}}, 'bias_initializer': {'class_name': 'Zeros', 'config': {}}, 'kernel_regularizer': None, 'bias_regularizer': None, 'activity_regularizer': None, 'kernel_constraint': None, 'bias_constraint': None}}]}\n"
     ]
    }
   ],
   "source": [
    "print(model.get_config())"
   ]
  },
  {
   "cell_type": "code",
   "execution_count": 15,
   "metadata": {
    "ExecuteTime": {
     "end_time": "2022-07-13T13:40:08.333994Z",
     "start_time": "2022-07-13T13:40:08.328994Z"
    },
    "scrolled": true
   },
   "outputs": [
    {
     "name": "stdout",
     "output_type": "stream",
     "text": [
      "(784, 128)\n",
      "(128,)\n",
      "(128, 10)\n",
      "(10,)\n"
     ]
    }
   ],
   "source": [
    "weights = model.get_weights()\n",
    "\n",
    "print(weights[0].shape)#第一层dense的weights\n",
    "print(weights[1].shape)#第一层dense的bias\n",
    "\n",
    "print(weights[2].shape)#第二层dense的weights\n",
    "print(weights[3].shape)#第二层dense的bias\n"
   ]
  },
  {
   "cell_type": "markdown",
   "metadata": {},
   "source": [
    "### 导出每一层的权重和偏置(以下代码废弃，权重提取操作使用OpenNNA_Model_Converter完成。"
   ]
  },
  {
   "cell_type": "code",
   "execution_count": 26,
   "metadata": {
    "ExecuteTime": {
     "end_time": "2022-07-13T14:31:43.722435Z",
     "start_time": "2022-07-13T14:31:43.656553Z"
    }
   },
   "outputs": [],
   "source": [
    "import numpy as np\n",
    "\n",
    "#提取第一层Dense的weights\n",
    "dense1_txt = \"./dense_1_weights.txt\"\n",
    "dense1_weights = np.swapaxes(weights[0],0,1)\n",
    "txtfile_1 = open(dense1_txt, 'w', encoding='UTF-8')\n",
    "txtfile_1.write(\"\\n{\")\n",
    "for i in range(0,128):\n",
    "    txtfile_1.write(\"\\n\\t{\")\n",
    "    for j in range(0,784):\n",
    "        txtfile_1.write(\"%8.6f\"%dense1_weights[i][j]+\",\")\n",
    "    txtfile_1.write(\"},\\n\")\n",
    "txtfile_1.write(\"\\n}\")\n",
    "txtfile_1.close()\n",
    "\n",
    "#提取第一层Dense的bias\n",
    "dense2_txt = \"./dense_1_bias.txt\"\n",
    "txtfile_1 = open(dense2_txt, 'w', encoding='UTF-8')\n",
    "txtfile_1.write(\"\\n{\")\n",
    "for i in range(0,128):\n",
    "    txtfile_1.write(\"%8.6f\"%weights[1][i]+\",\")\n",
    "txtfile_1.write(\"}\")\n",
    "txtfile_1.close()\n",
    "\n",
    "#提取第二层Dense的weights\n",
    "dense3_txt = \"./dense_2_weights.txt\"\n",
    "dense2_weights = np.swapaxes(weights[2],0,1)\n",
    "txtfile_1 = open(dense3_txt, 'w', encoding='UTF-8')\n",
    "txtfile_1.write(\"\\n{\")\n",
    "for i in range(0,10):\n",
    "    txtfile_1.write(\"\\n\\t{\")\n",
    "    for j in range(0,128):\n",
    "        txtfile_1.write(\"%8.6f\"%dense2_weights[i][j]+\",\")\n",
    "    txtfile_1.write(\"},\\n\")\n",
    "txtfile_1.write(\"\\n}\")\n",
    "txtfile_1.close()\n",
    "\n",
    "#提取第二层Dense的bias\n",
    "dense4_txt = \"./dense_2_bias.txt\"\n",
    "txtfile_1 = open(dense4_txt, 'w', encoding='UTF-8')\n",
    "txtfile_1.write(\"\\n{\")\n",
    "for i in range(0,10):\n",
    "    txtfile_1.write(\"%8.6f\"%weights[3][i]+\",\")\n",
    "txtfile_1.write(\"}\")\n",
    "txtfile_1.close()\n"
   ]
  },
  {
   "cell_type": "markdown",
   "metadata": {},
   "source": [
    "### 下载Mnist数据集，并转换为.jpg文件存储在文件夹下"
   ]
  },
  {
   "cell_type": "code",
   "execution_count": 30,
   "metadata": {
    "ExecuteTime": {
     "end_time": "2022-07-13T16:44:07.755198Z",
     "start_time": "2022-07-13T16:43:56.498663Z"
    }
   },
   "outputs": [],
   "source": [
    "import cv2\n",
    "\n",
    "import os\n",
    "\n",
    "from keras.datasets import mnist\n",
    "\n",
    " \n",
    "\n",
    "import numpy as np\n",
    "\n",
    "str_1 = 'mnist_train'\n",
    "\n",
    "str_2 = 'mnist_test'\n",
    "\n",
    "if os.path.exists(str_1) is False:\n",
    "\n",
    "    os.mkdir(str_1)\n",
    "\n",
    " \n",
    "\n",
    "if os.path.exists(str_2) is False:\n",
    "\n",
    "    os.mkdir(str_2)\n",
    "\n",
    "#自动下载mnist数据集\n",
    "\n",
    "(X_train, Y_train), (X_test, Y_test) = mnist.load_data()\n",
    "\n",
    " \n",
    "\n",
    "for i in range(0, 59999):  # 迭代 0 到 59999 之间的数字\n",
    "\n",
    "    fileName = str_1+\"/\"+ str(Y_train[i]) + \"_\" + str(i) + \".jpg\"\n",
    "\n",
    "    cv2.imwrite(fileName, X_train[i])\n",
    "\n",
    " \n",
    "\n",
    "for i in range(0, 9999):  # 迭代 0 到 9999 之间的数字\n",
    "\n",
    "    fileName = str_2+\"/\"+ str(Y_test[i]) + \"_\" + str(i) + \".jpg\"\n",
    "\n",
    "    cv2.imwrite(fileName, X_test[i])"
   ]
  },
  {
   "cell_type": "markdown",
   "metadata": {},
   "source": [
    "### 将MNIST的.jpg转换为c 数组存到.txt中"
   ]
  },
  {
   "cell_type": "code",
   "execution_count": 28,
   "metadata": {
    "ExecuteTime": {
     "end_time": "2022-08-17T12:42:06.973467Z",
     "start_time": "2022-08-17T12:42:06.944564Z"
    }
   },
   "outputs": [],
   "source": [
    "import numpy as np\n",
    "import tensorflow as tf\n",
    "import tensorflow.keras as keras\n",
    "from tensorflow.keras import models, layers, optimizers\n",
    "import numpy as np\n",
    "\n",
    "image_value = tf.io.read_file('./mnist_train/5_0.jpg')\n",
    "\n",
    "#解码为tensor\n",
    "image_value = tf.io.decode_jpeg(image_value,channels = 1)\n",
    "\n",
    "\n",
    "#image_value = tf.image.resize(image_value, (32,32))#改变像素值为32*32\n",
    "\n",
    "\n",
    "#tensor转array\n",
    "image_value = image_value.numpy()\n",
    "loadData1 = np.swapaxes(image_value, 0, 2)\n",
    "loadData2 = np.swapaxes(loadData1, 1, 2)\n",
    "\n",
    "row = 28\n",
    "col = 28\n",
    "\n",
    "txtfile = open(r'image_5_0_int8.txt', 'w',encoding='UTF-8')\n",
    "for i in range(0,1):\n",
    "    txtfile.write(\"\\t{\\n\")\n",
    "    for j in range(0,row):\n",
    "        txtfile.write(\"\\t\\t{\")\n",
    "        for k in range(0,col):\n",
    "            #txtfile.write(str(loadData2[i][j][k])+\", \") \n",
    "            txtfile.write(\"%d\"%(loadData2[i][j][k])+\", \") \n",
    "        txtfile.write(\"},\\n\")\n",
    "    txtfile.write(\"\\t},\\n\\n\")\n",
    "txtfile.close()"
   ]
  },
  {
   "cell_type": "code",
   "execution_count": null,
   "metadata": {},
   "outputs": [],
   "source": []
  }
 ],
 "metadata": {
  "colab": {
   "collapsed_sections": [],
   "name": "beginner.ipynb",
   "toc_visible": true
  },
  "kernelspec": {
   "display_name": "Python 3 (ipykernel)",
   "language": "python",
   "name": "python3"
  },
  "language_info": {
   "codemirror_mode": {
    "name": "ipython",
    "version": 3
   },
   "file_extension": ".py",
   "mimetype": "text/x-python",
   "name": "python",
   "nbconvert_exporter": "python",
   "pygments_lexer": "ipython3",
   "version": "3.7.4"
  }
 },
 "nbformat": 4,
 "nbformat_minor": 1
}
